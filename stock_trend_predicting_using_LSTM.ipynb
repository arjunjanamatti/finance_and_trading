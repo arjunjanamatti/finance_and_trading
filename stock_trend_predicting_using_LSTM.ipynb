{
  "nbformat": 4,
  "nbformat_minor": 0,
  "metadata": {
    "colab": {
      "name": "stock_trend_predicting_using_LSTM.ipynb",
      "provenance": [],
      "mount_file_id": "1PrehV1Ga3kzZi9nsHVgwQymFBuYWmLaT",
      "authorship_tag": "ABX9TyM/G5ufxJDIzAAM/Gr4+oqi",
      "include_colab_link": true
    },
    "kernelspec": {
      "name": "python3",
      "display_name": "Python 3"
    },
    "accelerator": "GPU"
  },
  "cells": [
    {
      "cell_type": "markdown",
      "metadata": {
        "id": "view-in-github",
        "colab_type": "text"
      },
      "source": [
        "<a href=\"https://colab.research.google.com/github/arjunjanamatti/finance_and_trading/blob/master/stock_trend_predicting_using_LSTM.ipynb\" target=\"_parent\"><img src=\"https://colab.research.google.com/assets/colab-badge.svg\" alt=\"Open In Colab\"/></a>"
      ]
    },
    {
      "cell_type": "code",
      "metadata": {
        "id": "ZRSAcZO7Jj_h",
        "colab_type": "code",
        "colab": {}
      },
      "source": [
        "import numpy as np\n",
        "import pandas as pd\n",
        "import matplotlib.pyplot as plt\n",
        "from sklearn.preprocessing import MinMaxScaler\n",
        "#for deep learning model\n",
        "from tensorflow.keras import Sequential\n",
        "from tensorflow.keras.layers import Dense\n",
        "from tensorflow.keras.layers import LSTM\n",
        "from tensorflow.keras.layers import Dropout"
      ],
      "execution_count": null,
      "outputs": []
    },
    {
      "cell_type": "code",
      "metadata": {
        "id": "AE2xHclrJ7sL",
        "colab_type": "code",
        "colab": {
          "base_uri": "https://localhost:8080/",
          "height": 424
        },
        "outputId": "7a2ec26a-7b0d-4ac1-8f44-0fac43febff8"
      },
      "source": [
        "df = pd.read_csv('/content/drive/My Drive/Colab Notebooks/tata_global.txt', delimiter=',')\n",
        "df"
      ],
      "execution_count": null,
      "outputs": [
        {
          "output_type": "execute_result",
          "data": {
            "text/html": [
              "<div>\n",
              "<style scoped>\n",
              "    .dataframe tbody tr th:only-of-type {\n",
              "        vertical-align: middle;\n",
              "    }\n",
              "\n",
              "    .dataframe tbody tr th {\n",
              "        vertical-align: top;\n",
              "    }\n",
              "\n",
              "    .dataframe thead th {\n",
              "        text-align: right;\n",
              "    }\n",
              "</style>\n",
              "<table border=\"1\" class=\"dataframe\">\n",
              "  <thead>\n",
              "    <tr style=\"text-align: right;\">\n",
              "      <th></th>\n",
              "      <th>Date</th>\n",
              "      <th>Open</th>\n",
              "      <th>High</th>\n",
              "      <th>Low</th>\n",
              "      <th>Last</th>\n",
              "      <th>Close</th>\n",
              "      <th>Total Trade Quantity</th>\n",
              "      <th>Turnover (Lacs)</th>\n",
              "    </tr>\n",
              "  </thead>\n",
              "  <tbody>\n",
              "    <tr>\n",
              "      <th>0</th>\n",
              "      <td>2018-09-28</td>\n",
              "      <td>234.05</td>\n",
              "      <td>235.95</td>\n",
              "      <td>230.20</td>\n",
              "      <td>233.50</td>\n",
              "      <td>233.75</td>\n",
              "      <td>3069914</td>\n",
              "      <td>7162.35</td>\n",
              "    </tr>\n",
              "    <tr>\n",
              "      <th>1</th>\n",
              "      <td>2018-09-27</td>\n",
              "      <td>234.55</td>\n",
              "      <td>236.80</td>\n",
              "      <td>231.10</td>\n",
              "      <td>233.80</td>\n",
              "      <td>233.25</td>\n",
              "      <td>5082859</td>\n",
              "      <td>11859.95</td>\n",
              "    </tr>\n",
              "    <tr>\n",
              "      <th>2</th>\n",
              "      <td>2018-09-26</td>\n",
              "      <td>240.00</td>\n",
              "      <td>240.00</td>\n",
              "      <td>232.50</td>\n",
              "      <td>235.00</td>\n",
              "      <td>234.25</td>\n",
              "      <td>2240909</td>\n",
              "      <td>5248.60</td>\n",
              "    </tr>\n",
              "    <tr>\n",
              "      <th>3</th>\n",
              "      <td>2018-09-25</td>\n",
              "      <td>233.30</td>\n",
              "      <td>236.75</td>\n",
              "      <td>232.00</td>\n",
              "      <td>236.25</td>\n",
              "      <td>236.10</td>\n",
              "      <td>2349368</td>\n",
              "      <td>5503.90</td>\n",
              "    </tr>\n",
              "    <tr>\n",
              "      <th>4</th>\n",
              "      <td>2018-09-24</td>\n",
              "      <td>233.55</td>\n",
              "      <td>239.20</td>\n",
              "      <td>230.75</td>\n",
              "      <td>234.00</td>\n",
              "      <td>233.30</td>\n",
              "      <td>3423509</td>\n",
              "      <td>7999.55</td>\n",
              "    </tr>\n",
              "    <tr>\n",
              "      <th>...</th>\n",
              "      <td>...</td>\n",
              "      <td>...</td>\n",
              "      <td>...</td>\n",
              "      <td>...</td>\n",
              "      <td>...</td>\n",
              "      <td>...</td>\n",
              "      <td>...</td>\n",
              "      <td>...</td>\n",
              "    </tr>\n",
              "    <tr>\n",
              "      <th>2030</th>\n",
              "      <td>2010-07-27</td>\n",
              "      <td>117.60</td>\n",
              "      <td>119.50</td>\n",
              "      <td>112.00</td>\n",
              "      <td>118.80</td>\n",
              "      <td>118.65</td>\n",
              "      <td>586100</td>\n",
              "      <td>694.98</td>\n",
              "    </tr>\n",
              "    <tr>\n",
              "      <th>2031</th>\n",
              "      <td>2010-07-26</td>\n",
              "      <td>120.10</td>\n",
              "      <td>121.00</td>\n",
              "      <td>117.10</td>\n",
              "      <td>117.10</td>\n",
              "      <td>117.60</td>\n",
              "      <td>658440</td>\n",
              "      <td>780.01</td>\n",
              "    </tr>\n",
              "    <tr>\n",
              "      <th>2032</th>\n",
              "      <td>2010-07-23</td>\n",
              "      <td>121.80</td>\n",
              "      <td>121.95</td>\n",
              "      <td>120.25</td>\n",
              "      <td>120.35</td>\n",
              "      <td>120.65</td>\n",
              "      <td>281312</td>\n",
              "      <td>340.31</td>\n",
              "    </tr>\n",
              "    <tr>\n",
              "      <th>2033</th>\n",
              "      <td>2010-07-22</td>\n",
              "      <td>120.30</td>\n",
              "      <td>122.00</td>\n",
              "      <td>120.25</td>\n",
              "      <td>120.75</td>\n",
              "      <td>120.90</td>\n",
              "      <td>293312</td>\n",
              "      <td>355.17</td>\n",
              "    </tr>\n",
              "    <tr>\n",
              "      <th>2034</th>\n",
              "      <td>2010-07-21</td>\n",
              "      <td>122.10</td>\n",
              "      <td>123.00</td>\n",
              "      <td>121.05</td>\n",
              "      <td>121.10</td>\n",
              "      <td>121.55</td>\n",
              "      <td>658666</td>\n",
              "      <td>803.56</td>\n",
              "    </tr>\n",
              "  </tbody>\n",
              "</table>\n",
              "<p>2035 rows × 8 columns</p>\n",
              "</div>"
            ],
            "text/plain": [
              "            Date    Open    High  ...   Close  Total Trade Quantity  Turnover (Lacs)\n",
              "0     2018-09-28  234.05  235.95  ...  233.75               3069914          7162.35\n",
              "1     2018-09-27  234.55  236.80  ...  233.25               5082859         11859.95\n",
              "2     2018-09-26  240.00  240.00  ...  234.25               2240909          5248.60\n",
              "3     2018-09-25  233.30  236.75  ...  236.10               2349368          5503.90\n",
              "4     2018-09-24  233.55  239.20  ...  233.30               3423509          7999.55\n",
              "...          ...     ...     ...  ...     ...                   ...              ...\n",
              "2030  2010-07-27  117.60  119.50  ...  118.65                586100           694.98\n",
              "2031  2010-07-26  120.10  121.00  ...  117.60                658440           780.01\n",
              "2032  2010-07-23  121.80  121.95  ...  120.65                281312           340.31\n",
              "2033  2010-07-22  120.30  122.00  ...  120.90                293312           355.17\n",
              "2034  2010-07-21  122.10  123.00  ...  121.55                658666           803.56\n",
              "\n",
              "[2035 rows x 8 columns]"
            ]
          },
          "metadata": {
            "tags": []
          },
          "execution_count": 74
        }
      ]
    },
    {
      "cell_type": "code",
      "metadata": {
        "id": "6W5QfRnzKhYV",
        "colab_type": "code",
        "colab": {
          "base_uri": "https://localhost:8080/",
          "height": 206
        },
        "outputId": "5bb5acb9-dbeb-4571-a309-38ff9ef3a609"
      },
      "source": [
        "# reverse the order\n",
        "df = df[::-1]\n",
        "df = df.reset_index(drop=True)\n",
        "df.head()"
      ],
      "execution_count": null,
      "outputs": [
        {
          "output_type": "execute_result",
          "data": {
            "text/html": [
              "<div>\n",
              "<style scoped>\n",
              "    .dataframe tbody tr th:only-of-type {\n",
              "        vertical-align: middle;\n",
              "    }\n",
              "\n",
              "    .dataframe tbody tr th {\n",
              "        vertical-align: top;\n",
              "    }\n",
              "\n",
              "    .dataframe thead th {\n",
              "        text-align: right;\n",
              "    }\n",
              "</style>\n",
              "<table border=\"1\" class=\"dataframe\">\n",
              "  <thead>\n",
              "    <tr style=\"text-align: right;\">\n",
              "      <th></th>\n",
              "      <th>Date</th>\n",
              "      <th>Open</th>\n",
              "      <th>High</th>\n",
              "      <th>Low</th>\n",
              "      <th>Last</th>\n",
              "      <th>Close</th>\n",
              "      <th>Total Trade Quantity</th>\n",
              "      <th>Turnover (Lacs)</th>\n",
              "    </tr>\n",
              "  </thead>\n",
              "  <tbody>\n",
              "    <tr>\n",
              "      <th>0</th>\n",
              "      <td>2010-07-21</td>\n",
              "      <td>122.1</td>\n",
              "      <td>123.00</td>\n",
              "      <td>121.05</td>\n",
              "      <td>121.10</td>\n",
              "      <td>121.55</td>\n",
              "      <td>658666</td>\n",
              "      <td>803.56</td>\n",
              "    </tr>\n",
              "    <tr>\n",
              "      <th>1</th>\n",
              "      <td>2010-07-22</td>\n",
              "      <td>120.3</td>\n",
              "      <td>122.00</td>\n",
              "      <td>120.25</td>\n",
              "      <td>120.75</td>\n",
              "      <td>120.90</td>\n",
              "      <td>293312</td>\n",
              "      <td>355.17</td>\n",
              "    </tr>\n",
              "    <tr>\n",
              "      <th>2</th>\n",
              "      <td>2010-07-23</td>\n",
              "      <td>121.8</td>\n",
              "      <td>121.95</td>\n",
              "      <td>120.25</td>\n",
              "      <td>120.35</td>\n",
              "      <td>120.65</td>\n",
              "      <td>281312</td>\n",
              "      <td>340.31</td>\n",
              "    </tr>\n",
              "    <tr>\n",
              "      <th>3</th>\n",
              "      <td>2010-07-26</td>\n",
              "      <td>120.1</td>\n",
              "      <td>121.00</td>\n",
              "      <td>117.10</td>\n",
              "      <td>117.10</td>\n",
              "      <td>117.60</td>\n",
              "      <td>658440</td>\n",
              "      <td>780.01</td>\n",
              "    </tr>\n",
              "    <tr>\n",
              "      <th>4</th>\n",
              "      <td>2010-07-27</td>\n",
              "      <td>117.6</td>\n",
              "      <td>119.50</td>\n",
              "      <td>112.00</td>\n",
              "      <td>118.80</td>\n",
              "      <td>118.65</td>\n",
              "      <td>586100</td>\n",
              "      <td>694.98</td>\n",
              "    </tr>\n",
              "  </tbody>\n",
              "</table>\n",
              "</div>"
            ],
            "text/plain": [
              "         Date   Open    High  ...   Close  Total Trade Quantity  Turnover (Lacs)\n",
              "0  2010-07-21  122.1  123.00  ...  121.55                658666           803.56\n",
              "1  2010-07-22  120.3  122.00  ...  120.90                293312           355.17\n",
              "2  2010-07-23  121.8  121.95  ...  120.65                281312           340.31\n",
              "3  2010-07-26  120.1  121.00  ...  117.60                658440           780.01\n",
              "4  2010-07-27  117.6  119.50  ...  118.65                586100           694.98\n",
              "\n",
              "[5 rows x 8 columns]"
            ]
          },
          "metadata": {
            "tags": []
          },
          "execution_count": 75
        }
      ]
    },
    {
      "cell_type": "code",
      "metadata": {
        "id": "kaadfTe8KnFW",
        "colab_type": "code",
        "colab": {
          "base_uri": "https://localhost:8080/",
          "height": 53
        },
        "outputId": "86f628f8-4ed4-42f8-ed97-c43c80280bad"
      },
      "source": [
        "# close_price = df.iloc[:,5:6]\n",
        "# train_set = close_price[:2000].values\n",
        "# test_set = close_price[2000:].values\n",
        "# print(\"Train size: \",train_set.shape)\n",
        "# print(\"Test size:\",test_set.shape)\n",
        "\n",
        "open_price = df.iloc[:,1:2]\n",
        "train_set = open_price[:2020].values\n",
        "test_set = open_price[2020:].values\n",
        "print(\"Train size: \",train_set.shape)\n",
        "print(\"Test size:\",test_set.shape)"
      ],
      "execution_count": null,
      "outputs": [
        {
          "output_type": "stream",
          "text": [
            "Train size:  (2020, 1)\n",
            "Test size: (15, 1)\n"
          ],
          "name": "stdout"
        }
      ]
    },
    {
      "cell_type": "code",
      "metadata": {
        "id": "bGclpa1JKqmm",
        "colab_type": "code",
        "colab": {
          "base_uri": "https://localhost:8080/",
          "height": 283
        },
        "outputId": "cd16c723-23ad-4bde-a07c-ed6e1144089c"
      },
      "source": [
        "dates = pd.to_datetime(df['Date'])\n",
        "plt.plot_date(dates, open_price,fmt='-')"
      ],
      "execution_count": null,
      "outputs": [
        {
          "output_type": "execute_result",
          "data": {
            "text/plain": [
              "[<matplotlib.lines.Line2D at 0x7f0f28a859b0>]"
            ]
          },
          "metadata": {
            "tags": []
          },
          "execution_count": 103
        },
        {
          "output_type": "display_data",
          "data": {
            "image/png": "[encoded data removed]",
            "text/plain": [
              "<Figure size 432x288 with 1 Axes>"
            ]
          },
          "metadata": {
            "tags": [],
            "needs_background": "light"
          }
        }
      ]
    },
    {
      "cell_type": "code",
      "metadata": {
        "id": "s5W8gLXkKwpE",
        "colab_type": "code",
        "colab": {}
      },
      "source": [
        "x_train = []\n",
        "y_train = []\n",
        "sequence_length = 2\n",
        "for i in range(len(train_set)):\n",
        "    if (i + sequence_length) < len(train_set):\n",
        "        x_train.append(train_set[i:i+sequence_length])\n",
        "        y_train.append(train_set[i+sequence_length])"
      ],
      "execution_count": null,
      "outputs": []
    },
    {
      "cell_type": "code",
      "metadata": {
        "id": "fvulDADmK0wz",
        "colab_type": "code",
        "colab": {
          "base_uri": "https://localhost:8080/",
          "height": 35
        },
        "outputId": "90b91af1-fd61-4e98-ed45-7f65ee4eb9b9"
      },
      "source": [
        "x_train = np.array(x_train)\n",
        "y_train = np.array(y_train)\n",
        "x_train = np.reshape(x_train,(x_train.shape[0],x_train.shape[1],1))\n",
        "x_train.shape"
      ],
      "execution_count": null,
      "outputs": [
        {
          "output_type": "execute_result",
          "data": {
            "text/plain": [
              "(2018, 2, 1)"
            ]
          },
          "metadata": {
            "tags": []
          },
          "execution_count": 105
        }
      ]
    },
    {
      "cell_type": "code",
      "metadata": {
        "id": "XQJlzX6GK3JJ",
        "colab_type": "code",
        "colab": {
          "base_uri": "https://localhost:8080/",
          "height": 1000
        },
        "outputId": "5597e62c-47f7-40f8-91fa-fb188c881efd"
      },
      "source": [
        "lstm_model = Sequential()\n",
        "\n",
        "lstm_model.add(LSTM(units = 100,return_sequences=True,input_shape=(x_train.shape[1],1)))\n",
        "lstm_model.add(Dropout(0.2))\n",
        "\n",
        "lstm_model.add(LSTM(units = 100,return_sequences=True))\n",
        "lstm_model.add(Dropout(0.2))\n",
        "\n",
        "lstm_model.add(LSTM(units = 100,return_sequences=True))\n",
        "lstm_model.add(Dropout(0.2))\n",
        "\n",
        "lstm_model.add(LSTM(units=100))\n",
        "lstm_model.add(Dropout(0.2))\n",
        "\n",
        "lstm_model.add(Dense(units=1))\n",
        "lstm_model.compile(optimizer = 'adam',loss='mean_squared_error')\n",
        "lstm_model.fit(x_train,y_train, epochs=30, batch_size =1)"
      ],
      "execution_count": null,
      "outputs": [
        {
          "output_type": "stream",
          "text": [
            "Epoch 1/30\n",
            "2018/2018 [==============================] - 11s 6ms/step - loss: 8327.0967\n",
            "Epoch 2/30\n",
            "2018/2018 [==============================] - 11s 6ms/step - loss: 2486.4324\n",
            "Epoch 3/30\n",
            "2018/2018 [==============================] - 12s 6ms/step - loss: 2398.7947\n",
            "Epoch 4/30\n",
            "2018/2018 [==============================] - 11s 6ms/step - loss: 1289.0049\n",
            "Epoch 5/30\n",
            "2018/2018 [==============================] - 11s 6ms/step - loss: 598.9507\n",
            "Epoch 6/30\n",
            "2018/2018 [==============================] - 11s 6ms/step - loss: 372.6804\n",
            "Epoch 7/30\n",
            "2018/2018 [==============================] - 11s 6ms/step - loss: 273.1620\n",
            "Epoch 8/30\n",
            "2018/2018 [==============================] - 11s 6ms/step - loss: 220.3580\n",
            "Epoch 9/30\n",
            "2018/2018 [==============================] - 11s 6ms/step - loss: 203.1588\n",
            "Epoch 10/30\n",
            "2018/2018 [==============================] - 11s 6ms/step - loss: 213.3885\n",
            "Epoch 11/30\n",
            "2018/2018 [==============================] - 11s 6ms/step - loss: 189.1673\n",
            "Epoch 12/30\n",
            "2018/2018 [==============================] - 11s 6ms/step - loss: 177.6379\n",
            "Epoch 13/30\n",
            "2018/2018 [==============================] - 11s 6ms/step - loss: 182.6312\n",
            "Epoch 14/30\n",
            "2018/2018 [==============================] - 11s 6ms/step - loss: 175.6494\n",
            "Epoch 15/30\n",
            "2018/2018 [==============================] - 11s 6ms/step - loss: 168.1642\n",
            "Epoch 16/30\n",
            "2018/2018 [==============================] - 11s 6ms/step - loss: 155.9926\n",
            "Epoch 17/30\n",
            "2018/2018 [==============================] - 11s 6ms/step - loss: 180.9003\n",
            "Epoch 18/30\n",
            "2018/2018 [==============================] - 11s 6ms/step - loss: 159.9921\n",
            "Epoch 19/30\n",
            "2018/2018 [==============================] - 11s 6ms/step - loss: 152.8940\n",
            "Epoch 20/30\n",
            "2018/2018 [==============================] - 11s 6ms/step - loss: 166.2552\n",
            "Epoch 21/30\n",
            "2018/2018 [==============================] - 11s 6ms/step - loss: 150.3997\n",
            "Epoch 22/30\n",
            "2018/2018 [==============================] - 11s 6ms/step - loss: 148.5779\n",
            "Epoch 23/30\n",
            "2018/2018 [==============================] - 11s 6ms/step - loss: 142.6852\n",
            "Epoch 24/30\n",
            "2018/2018 [==============================] - 11s 6ms/step - loss: 152.5890\n",
            "Epoch 25/30\n",
            "2018/2018 [==============================] - 11s 6ms/step - loss: 158.5502\n",
            "Epoch 26/30\n",
            "2018/2018 [==============================] - 11s 6ms/step - loss: 165.3603\n",
            "Epoch 27/30\n",
            "2018/2018 [==============================] - 11s 6ms/step - loss: 147.2792\n",
            "Epoch 28/30\n",
            "2018/2018 [==============================] - 11s 6ms/step - loss: 158.8485\n",
            "Epoch 29/30\n",
            "2018/2018 [==============================] - 11s 6ms/step - loss: 135.7815\n",
            "Epoch 30/30\n",
            "2018/2018 [==============================] - 11s 6ms/step - loss: 153.3672\n"
          ],
          "name": "stdout"
        },
        {
          "output_type": "execute_result",
          "data": {
            "text/plain": [
              "<tensorflow.python.keras.callbacks.History at 0x7f0f270f5518>"
            ]
          },
          "metadata": {
            "tags": []
          },
          "execution_count": 107
        }
      ]
    },
    {
      "cell_type": "code",
      "metadata": {
        "id": "KNKAJSHdK5Za",
        "colab_type": "code",
        "colab": {
          "base_uri": "https://localhost:8080/",
          "height": 35
        },
        "outputId": "c3bdae21-1539-4723-a647-b48eafdf6015"
      },
      "source": [
        "input = open_price[len(open_price)-len(test_set)-2:].values\n",
        "input.shape\n",
        "# input = sc.transform(input)\n"
      ],
      "execution_count": null,
      "outputs": [
        {
          "output_type": "execute_result",
          "data": {
            "text/plain": [
              "(17, 1)"
            ]
          },
          "metadata": {
            "tags": []
          },
          "execution_count": 108
        }
      ]
    },
    {
      "cell_type": "code",
      "metadata": {
        "id": "5vaNr6hXRFIk",
        "colab_type": "code",
        "colab": {
          "base_uri": "https://localhost:8080/",
          "height": 35
        },
        "outputId": "e14f7aef-4b28-449e-e6b9-97a2e0caf4d6"
      },
      "source": [
        "x_test = []\n",
        "for i in range(2,15):\n",
        "    x_test.append(input[i-2:i,0])\n",
        "x_test = np.array(x_test)\n",
        "x_test = np.reshape(x_test,(x_test.shape[0],x_test.shape[1],1))\n",
        "x_test.shape"
      ],
      "execution_count": null,
      "outputs": [
        {
          "output_type": "execute_result",
          "data": {
            "text/plain": [
              "(13, 2, 1)"
            ]
          },
          "metadata": {
            "tags": []
          },
          "execution_count": 109
        }
      ]
    },
    {
      "cell_type": "code",
      "metadata": {
        "id": "0k3Za-ShRoyL",
        "colab_type": "code",
        "colab": {
          "base_uri": "https://localhost:8080/",
          "height": 281
        },
        "outputId": "6aaba5a7-6324-49e9-bedf-a51fef70f970"
      },
      "source": [
        "pred = lstm_model.predict(x_test)\n",
        "pred = pred[1:]\n",
        "# # pred = sc.inverse_transform(pred)\n",
        "plt.plot(test_set,color='green')\n",
        "plt.plot(pred,color='red')\n",
        "plt.title('Stock_prediction')\n",
        "plt.legend(['Actual', 'Predicted'])\n",
        "plt.show()"
      ],
      "execution_count": null,
      "outputs": [
        {
          "output_type": "display_data",
          "data": {
            "image/png": "[encoded data removed]",
            "text/plain": [
              "<Figure size 432x288 with 1 Axes>"
            ]
          },
          "metadata": {
            "tags": [],
            "needs_background": "light"
          }
        }
      ]
    },
    {
      "cell_type": "code",
      "metadata": {
        "id": "Pz2bNw9NePLP",
        "colab_type": "code",
        "colab": {
          "base_uri": "https://localhost:8080/",
          "height": 199
        },
        "outputId": "37f0a043-d947-4ab4-a0fc-fdd1e108586e"
      },
      "source": [
        ""
      ],
      "execution_count": null,
      "outputs": [
        {
          "output_type": "execute_result",
          "data": {
            "text/plain": [
              "array([[236.77283],\n",
              "       [232.72322],\n",
              "       [234.60275],\n",
              "       [234.66722],\n",
              "       [227.15874],\n",
              "       [235.69838],\n",
              "       [252.11063],\n",
              "       [259.9383 ],\n",
              "       [257.40887],\n",
              "       [255.86365]], dtype=float32)"
            ]
          },
          "metadata": {
            "tags": []
          },
          "execution_count": 113
        }
      ]
    },
    {
      "cell_type": "code",
      "metadata": {
        "id": "1dWRxgcl59nE",
        "colab_type": "code",
        "colab": {}
      },
      "source": [
        ""
      ],
      "execution_count": null,
      "outputs": []
    }
  ]
}